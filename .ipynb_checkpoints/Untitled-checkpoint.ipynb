{
 "cells": [
  {
   "cell_type": "code",
   "execution_count": null,
   "metadata": {
    "collapsed": true
   },
   "outputs": [],
   "source": [
    "# Importing the libraries\n",
    "import numpy as np\n",
    "import matplotlib.pyplot as plt\n",
    "import pandas as pd\n",
    "\n",
    "# Importing the dataset\n",
    "dataset = pd.read_csv('movie_ratings.csv', sep=',')\n",
    "#dataset\n",
    "\n",
    "y=dataset.iloc[:,2:-3].values\n",
    "nameY=\"IMDB Score\"\n",
    "for i in ['votes','year','metascore']:\n",
    "    X= (dataset[i].values).reshape(-1,1)\n",
    "    nameX=i.title()\n",
    "    plt.scatter(X,y)\n",
    "    # Splitting the dataset into the Training set and Test set\n",
    "    from sklearn.cross_validation import train_test_split\n",
    "    X_train, X_test, y_train, y_test = train_test_split(X, y, test_size = 1/3, random_state = 0)\n",
    "    \n",
    "    # Feature Scaling\n",
    "    \"\"\"from sklearn.preprocessing import StandardScaler\n",
    "    sc_X = StandardScaler()\n",
    "    X_train = sc_X.fit_transform(X_train)\n",
    "    X_test = sc_X.transform(X_test)\n",
    "    sc_y = StandardScaler()\n",
    "    y_train = sc_y.fit_transform(y_train)\"\"\"\n",
    "    \n",
    "    # Fitting Simple Linear Regression to the Training set\n",
    "    from sklearn.linear_model import LinearRegression\n",
    "    regressor = LinearRegression()\n",
    "    regressor.fit(X_train, y_train)\n",
    "    \n",
    "    # Predicting the Test set results\n",
    "    y_pred = regressor.predict(X_test)\n",
    "    \n",
    "    # Visualising the Training set results\n",
    "    plt.scatter(X_train, y_train, color = 'red')\n",
    "    plt.plot(X_train, regressor.predict(X_train), color = 'blue')\n",
    "    plt.title(nameX+ \" Versus \"+ nameY +\" (training set results)\")\n",
    "    plt.xlabel(nameX)\n",
    "    plt.ylabel(nameY)\n",
    "    plt.show()\n",
    "    \n",
    "    # Visualising the Test set results\n",
    "    plt.scatter(X_test, y_test, color = 'red')\n",
    "    plt.plot(X_train, regressor.predict(X_train), color = 'blue')\n",
    "    plt.title(nameX+\" Versus \"+ nameY +\" (test set results)\" )\n",
    "    plt.xlabel(nameX)\n",
    "    plt.ylabel(nameY)\n",
    "    plt.show()"
   ]
  }
 ],
 "metadata": {
  "kernelspec": {
   "display_name": "Python 3",
   "language": "python",
   "name": "python3"
  },
  "language_info": {
   "codemirror_mode": {
    "name": "ipython",
    "version": 3
   },
   "file_extension": ".py",
   "mimetype": "text/x-python",
   "name": "python",
   "nbconvert_exporter": "python",
   "pygments_lexer": "ipython3",
   "version": "3.6.3"
  }
 },
 "nbformat": 4,
 "nbformat_minor": 2
}
